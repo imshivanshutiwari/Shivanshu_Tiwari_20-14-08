{
 "cells": [
  {
   "cell_type": "markdown",
   "id": "15ede207-aad4-472e-b3d7-9fb250b1a591",
   "metadata": {},
   "source": [
    "## Assignment 2 (Data Science Tools and Techniqes, AM609)\n",
    "## Reg. No: 24-14-08\n",
    "## Name: Shivanshu Tiwari\n",
    "## Course: M.Tech Modelling & Simulation"
   ]
  },
  {
   "cell_type": "markdown",
   "id": "f8a4ed07-48e2-4532-b16b-97f33596214a",
   "metadata": {},
   "source": [
    "###"
   ]
  },
  {
   "cell_type": "markdown",
   "id": "c408e4a8-ebc9-4298-aa59-2c3b9e554947",
   "metadata": {},
   "source": [
    "### Q1: a) Create a variable named var1 that stores an array of numbers from 0 to 30, inclusive. Print var1 and its shape. "
   ]
  },
  {
   "cell_type": "markdown",
   "id": "86917231-8775-4240-8ef9-32de4c0ca743",
   "metadata": {},
   "source": [
    "### b) Change var1 to a validly-shaped two dimensional matrix and store it in a new variable called var2. Print var2 and its shape."
   ]
  },
  {
   "cell_type": "markdown",
   "id": "4bb0994b-b9d7-476d-9d74-0859e8423292",
   "metadata": {},
   "source": [
    "### c) Create a third variable, var3 that reshapes var2 into a valid three dimensional shape. Print var3 and its shape."
   ]
  },
  {
   "cell_type": "markdown",
   "id": "bf4b2c22-dd30-4274-9306-1a99ab9cdb32",
   "metadata": {},
   "source": [
    "### d) Use two dimensional array indexing to set the first value in the second row of var2 to -1. Now look at var1 and var3. Did they change? Explain what's going on. (Hint: Does reshape return a view or a copy?)"
   ]
  },
  {
   "cell_type": "markdown",
   "id": "08251232-524b-4a18-a2ca-7f060d012050",
   "metadata": {},
   "source": [
    "### e) Another thing that comes up a lot with array shapes is thinking about how to aggregate over specific dimensions. Figure out how the Numpy sum function works (and the axis argument in particular) and do the following:\n",
    "### (i) Sum var3 over its second dimension and print the result.                                                                (ii) Sum var3 over its third dimension and print the result.                                                                (iii) Sum var3 over both its first and third dimension and print the result."
   ]
  },
  {
   "cell_type": "markdown",
   "id": "4d640a78-f038-4932-b067-fdcf73f727d2",
   "metadata": {},
   "source": [
    "### f) Write code to the following: (i) Slice out the second row of var2 and print it.                                                                          (ii) Slice out the last column of var2 using -1 notation and print it.                                                      (iii) Slice out the top right 2 x 2 submatrix of var2 and print it."
   ]
  },
  {
   "cell_type": "code",
   "execution_count": 1,
   "id": "b3428bd9-8f4b-4d60-b2de-46dc79757d97",
   "metadata": {},
   "outputs": [
    {
     "name": "stdout",
     "output_type": "stream",
     "text": [
      "The required array is: \n",
      "[ 0  1  2  3  4  5  6  7  8  9 10 11 12 13 14 15 16 17 18 19 20 21 22 23\n",
      " 24 25 26 27 28 29 30]\n",
      "Shape of the array is:  (31,)\n",
      "\n",
      "The new two dimensional matrix is:\n",
      "[[ 1  2  3  4  5  6]\n",
      " [ 7  8  9 10 11 12]\n",
      " [13 14 15 16 17 18]\n",
      " [19 20 21 22 23 24]\n",
      " [25 26 27 28 29 30]]\n",
      "Shape of the matrix is:  (5, 6)\n",
      "\n",
      "The three dimensional shape of variable 3 is: \n",
      "[[[ 1  2  3  4  5]\n",
      "  [ 6  7  8  9 10]\n",
      "  [11 12 13 14 15]]\n",
      "\n",
      " [[16 17 18 19 20]\n",
      "  [21 22 23 24 25]\n",
      "  [26 27 28 29 30]]]\n",
      "Shape of the variable 3 is:  (2, 3, 5)\n",
      "\n",
      "Updated var2 is:\n",
      "[[ 1  2  3  4  5  6]\n",
      " [-1  8  9 10 11 12]\n",
      " [13 14 15 16 17 18]\n",
      " [19 20 21 22 23 24]\n",
      " [25 26 27 28 29 30]]\n",
      "Array var1 after modifying var2:\n",
      "[ 0  1  2  3  4  5  6  7  8  9 10 11 12 13 14 15 16 17 18 19 20 21 22 23\n",
      " 24 25 26 27 28 29 30]\n",
      "Array var3 after modifying var2:\n",
      "[[[ 1  2  3  4  5]\n",
      "  [ 6 -1  8  9 10]\n",
      "  [11 12 13 14 15]]\n",
      "\n",
      " [[16 17 18 19 20]\n",
      "  [21 22 23 24 25]\n",
      "  [26 27 28 29 30]]]\n",
      "\n",
      "Sum of var3 over its second dimension:\n",
      " [[18 13 24 27 30]\n",
      " [63 66 69 72 75]]\n",
      "Sum of var3 over its third dimension:\n",
      " [[ 15  32  65]\n",
      " [ 90 115 140]]\n",
      "Sum of var3 over its first and third dimension:\n",
      " [105 147 205]\n",
      "\n",
      "The second row of var2 is: \n",
      "[[-1  8  9 10 11 12]]\n",
      "The last column of var2 is: \n",
      "[[ 6]\n",
      " [12]\n",
      " [18]\n",
      " [24]\n",
      " [30]]\n",
      "The top right 2x2 submatrix of var2 is: \n",
      "[[ 5  6]\n",
      " [11 12]]\n"
     ]
    }
   ],
   "source": [
    "import numpy as np\n",
    "\n",
    "var1=np.arange(0,31)\n",
    "print(\"The required array is: \")\n",
    "print(var1)\n",
    "print(\"Shape of the array is: \",var1.shape)\n",
    "print(    )\n",
    "\n",
    "\n",
    "var=np.delete(var1,0)\n",
    "var2=var.reshape(5,-1)\n",
    "print(\"The new two dimensional matrix is:\")\n",
    "print(var2)\n",
    "print(\"Shape of the matrix is: \",var2.shape)\n",
    "print(    )\n",
    "\n",
    "\n",
    "var3=var2.reshape(2,3,-1)\n",
    "print(\"The three dimensional shape of variable 3 is: \")\n",
    "print(var3)\n",
    "print(\"Shape of the variable 3 is: \", var3.shape)\n",
    "print(    )\n",
    "\n",
    "\n",
    "var2[1,0]=-1\n",
    "print(\"Updated var2 is:\")\n",
    "print(var2)\n",
    "print(\"Array var1 after modifying var2:\")\n",
    "print(var1)\n",
    "print(\"Array var3 after modifying var2:\")\n",
    "print(var3)\n",
    "print(     )\n",
    "\"\"\"Here we saw that the variable1(var1) is still unchanged while the first element of variable3(var3) is changed to -1. \"\"\"\n",
    "\n",
    "\n",
    "sum_var3_dim2 = var3.sum(axis=1)\n",
    "print(\"Sum of var3 over its second dimension:\\n\", sum_var3_dim2)\n",
    "sum_var3_dim3 = var3.sum(axis=2)\n",
    "print(\"Sum of var3 over its third dimension:\\n\", sum_var3_dim3)\n",
    "sum_var3_dim4=var3.sum(axis=(0,2))\n",
    "print(\"Sum of var3 over its first and third dimension:\\n\", sum_var3_dim4)\n",
    "print(     )\n",
    "\n",
    "\n",
    "row2_of_var2=var2[1:2,]\n",
    "print(\"The second row of var2 is: \")\n",
    "print(row2_of_var2)\n",
    "col_last_var2=var2[:,-1:]\n",
    "print(\"The last column of var2 is: \")\n",
    "print(col_last_var2)\n",
    "mat=var2[0:2,4:]\n",
    "print(\"The top right 2x2 submatrix of var2 is: \")\n",
    "print(mat)"
   ]
  },
  {
   "cell_type": "markdown",
   "id": "15fe8d1e-3940-4341-96e5-0a00a89125a8",
   "metadata": {},
   "source": [
    "#"
   ]
  },
  {
   "cell_type": "markdown",
   "id": "efcb567d-d568-4b6f-ac2e-5491f73deba7",
   "metadata": {},
   "source": [
    "#"
   ]
  },
  {
   "cell_type": "markdown",
   "id": "537f518c-61f9-4024-85d5-28687301c728",
   "metadata": {},
   "source": [
    "### Q2: a) The most basic kind of broadcast is with a scalar, in which you can perform a binary operation (e.g., add, multiply,...) on an array and a scalar, the effect is to perform the operation with the scalar for every element of the array. To try this out, create a vector 1,2,3,...,10 by adding 1 to the result of the arange function."
   ]
  },
  {
   "cell_type": "code",
   "execution_count": 2,
   "id": "890be485-9414-4aa6-a8e6-373efd670736",
   "metadata": {},
   "outputs": [
    {
     "name": "stdout",
     "output_type": "stream",
     "text": [
      "[ 1  2  3  4  5  6  7  8  9 10]\n"
     ]
    }
   ],
   "source": [
    "import numpy as np\n",
    "vector=np.arange(10)\n",
    "vector+=1\n",
    "print(vector)"
   ]
  },
  {
   "cell_type": "markdown",
   "id": "1d9fcbc8-1a9c-4aa4-a5e3-b2416391621f",
   "metadata": {},
   "source": [
    "###"
   ]
  },
  {
   "cell_type": "markdown",
   "id": "7d1deca7-91ac-4e97-997d-d9f257e0b691",
   "metadata": {},
   "source": [
    "### b) Now, create a 10 x 10 matrix A in which A_(ij)=i+j. You'll be able to do this using the vector you just created, and adding it to a reshaped veesion of itself."
   ]
  },
  {
   "cell_type": "code",
   "execution_count": 3,
   "id": "73bce096-23da-4442-91cc-23e2f788edf9",
   "metadata": {},
   "outputs": [
    {
     "name": "stdout",
     "output_type": "stream",
     "text": [
      "Matrix A:\n",
      "[[ 2  3  4  5  6  7  8  9 10 11]\n",
      " [ 3  4  5  6  7  8  9 10 11 12]\n",
      " [ 4  5  6  7  8  9 10 11 12 13]\n",
      " [ 5  6  7  8  9 10 11 12 13 14]\n",
      " [ 6  7  8  9 10 11 12 13 14 15]\n",
      " [ 7  8  9 10 11 12 13 14 15 16]\n",
      " [ 8  9 10 11 12 13 14 15 16 17]\n",
      " [ 9 10 11 12 13 14 15 16 17 18]\n",
      " [10 11 12 13 14 15 16 17 18 19]\n",
      " [11 12 13 14 15 16 17 18 19 20]]\n"
     ]
    }
   ],
   "source": [
    "A = vector.reshape(10, 1) + vector\n",
    "print(\"Matrix A:\")\n",
    "print(A)"
   ]
  },
  {
   "cell_type": "markdown",
   "id": "db9b58c0-6d48-440d-84ee-ee016afac383",
   "metadata": {},
   "source": [
    "###"
   ]
  },
  {
   "cell_type": "markdown",
   "id": "d59031b5-8c6c-45ac-9778-16667789506d",
   "metadata": {},
   "source": [
    "### c) A very common use of broadcasting is to standardize data, i.e., to make it have zero mean and unit variance. First, create a fake \"data set\" with 50 examples, each with five dimensions."
   ]
  },
  {
   "cell_type": "code",
   "execution_count": 4,
   "id": "0c1eee18-06bb-4b52-8a60-df213de8cdbb",
   "metadata": {},
   "outputs": [
    {
     "name": "stdout",
     "output_type": "stream",
     "text": [
      "\n",
      "Data Matrix:\n",
      "[[ 0.30821572  1.01621987  2.83291158  0.18724462  1.53354502]\n",
      " [ 1.73789768  4.41272098  1.17405259  0.47835625  4.24631751]\n",
      " [ 0.49830452  2.42672729  4.80297841  0.95685148  0.797241  ]\n",
      " [ 3.74111831  2.5554051   1.98735072  3.97094106  0.46879157]\n",
      " [ 0.3130524   0.28646629  0.81529812  4.11623036  0.73543727]\n",
      " [ 0.17390187  2.52377631  3.83716279  0.92231417  0.46344572]\n",
      " [ 8.2755551   1.10960303  1.98000223  1.08081515  0.86845996]\n",
      " [ 1.94407287  1.09038315  0.17974173  0.40026281  1.20331456]\n",
      " [ 1.28015552  0.59112946  1.15840745  0.38921403  0.57396869]\n",
      " [ 0.82174004  0.67838764  1.3076609   0.8972268   3.95078032]\n",
      " [ 0.64761217  0.27338757  0.28459897  0.68420863  2.51054574]\n",
      " [ 0.77979723  0.64650301  1.66884361  0.36483848  1.42389901]\n",
      " [ 0.29570433  1.33687773  0.15506493  0.3666508   1.24540253]\n",
      " [ 2.88197227  0.47871411  1.01376095  1.02542426  0.98638323]\n",
      " [ 1.37276512  3.21179731  1.85881772  5.00256029  0.8719632 ]\n",
      " [ 0.37034515  0.96609004  0.82625735  1.09617276  1.81856319]\n",
      " [ 0.70750007  1.58785661  0.22576372  1.82869516  1.14201509]\n",
      " [ 2.36301579  0.47178047  0.15766113  0.64892574  1.31339778]\n",
      " [ 1.13758752  1.02475987  0.20499825  1.00501153  0.45760103]\n",
      " [ 1.33442367  0.99213383  0.40903398  3.72449353  0.18271666]\n",
      " [16.84575582  1.68486526  0.30581764  1.21225173  1.355364  ]\n",
      " [ 0.94322663  0.17267363  1.02293277  0.44172088  1.87141695]\n",
      " [ 6.10724419  0.33556617  0.74197809  0.54550331  1.11449851]\n",
      " [ 2.41231997  0.74522143  2.22546569  0.17541181  2.65710844]\n",
      " [ 1.63040422  0.60241271  0.95372708  0.5857199   1.37025692]\n",
      " [ 0.24966283  0.24893666  3.15754559  1.66657798  0.24248869]\n",
      " [ 0.5528158   0.09629015  1.52811471  1.54840379  0.42697045]\n",
      " [ 1.45086802  1.3617722   0.9626909   0.80410656  0.43653602]\n",
      " [ 0.82703605  3.11607842  1.81581868  0.79181621  0.69518474]\n",
      " [ 1.66734395  2.38495873  1.31377449  3.86884085  2.37193978]\n",
      " [ 0.12763047  0.68730499  1.21254365  0.39743334  0.69626647]\n",
      " [ 5.22980041  1.0962433   2.29246967  4.32866809  2.16299411]\n",
      " [ 5.74737503  0.49835053  7.85068538  2.4395605   1.84594723]\n",
      " [ 4.40073262  0.70513591  0.93765297  0.83250652  0.4660805 ]\n",
      " [ 0.57127738  3.75883244  2.0401409   0.53706625  2.76992451]\n",
      " [ 1.78522483  0.47394534  0.11138483  2.02757173  1.82435161]\n",
      " [ 2.0555711   1.52041625  1.22534971  1.41248161  0.35926856]\n",
      " [ 1.04896762  0.75361984  3.40898902  9.67016216  0.84209293]\n",
      " [ 1.43793916  0.12516433  4.24635562  1.2785036   0.22440536]\n",
      " [ 1.39443177  1.54309527  0.56321782  1.17963062  0.93600052]\n",
      " [ 0.15141217  0.71358772  0.28484168  0.46380658  0.67834955]\n",
      " [ 2.00582685  0.27123303  2.73845738  1.14739042  0.55935495]\n",
      " [ 1.31033173  1.86417918  0.74271107  0.73519881  0.12878184]\n",
      " [ 1.33559986  0.48531903  0.44244566  7.26953298  0.4224699 ]\n",
      " [ 0.28980874  1.17952749  1.66241532  2.19722134  2.79979339]\n",
      " [ 0.75624075  1.07666894  0.24778948  1.16587708  2.57286808]\n",
      " [ 1.54964026  1.30681793  1.41871096  0.6502214   0.18392583]\n",
      " [ 3.78107722  1.62309349  0.57877514  1.33174867  0.3976255 ]\n",
      " [ 3.71987144  0.64129393  0.73326088  0.35515006  1.58529947]\n",
      " [ 1.50416612  1.32120707  1.23752039  1.33642274  1.4721576 ]]\n"
     ]
    }
   ],
   "source": [
    "import numpy.random as npr\n",
    "data = np.exp(npr.randn ( 50 ,   5 ) )\n",
    "print(\"\\nData Matrix:\")\n",
    "print(data)"
   ]
  },
  {
   "cell_type": "markdown",
   "id": "e0276d5c-cc38-45fa-a8a4-7b8749d9eecf",
   "metadata": {},
   "source": [
    "#### You don't worry too much about what this code is doing at this stage of the course, but for completeness: it imports the Numpy random number generation library, then generates a 50 x 5 matrix of standard normal random variates and exponentiates them. The effect of this is to have a pretend data set of 50 independent and identically-distributed vectors from a log-normal distributions."
   ]
  },
  {
   "cell_type": "markdown",
   "id": "216d0b55-b816-43a7-8f91-7b43ec66a1a3",
   "metadata": {},
   "source": [
    "###"
   ]
  },
  {
   "cell_type": "markdown",
   "id": "6deda993-a86a-4d11-976f-7d25367b57ec",
   "metadata": {},
   "source": [
    "### e) Now, compute the mean and standard deviation of each column. This should result in two vectors of length 5. You'll need to think a little bit about how to use the axis argument to mean and std. Store these vectors into variables and print both of them."
   ]
  },
  {
   "cell_type": "code",
   "execution_count": 5,
   "id": "0552862d-d074-48c1-b5e2-69d6d37629c0",
   "metadata": {},
   "outputs": [
    {
     "name": "stdout",
     "output_type": "stream",
     "text": [
      "Mean vector: [2.07748681 1.20149062 1.49767901 1.63085891 1.24527023]\n",
      "Standard deviation vector: [2.70876367 0.95475997 1.42313351 1.83380569 0.94557703]\n"
     ]
    }
   ],
   "source": [
    "mean_vector = np.mean(data, axis=0)\n",
    "std_vector = np.std(data, axis=0)\n",
    "print(\"Mean vector:\", mean_vector)\n",
    "print(\"Standard deviation vector:\", std_vector)\n"
   ]
  },
  {
   "cell_type": "markdown",
   "id": "e57c656f-891a-43a1-899b-69db4d593b00",
   "metadata": {},
   "source": [
    "###"
   ]
  },
  {
   "cell_type": "markdown",
   "id": "ce50161e-15fa-4335-9aa9-e6925e7d6814",
   "metadata": {},
   "source": [
    "### f) Now, Standardize the data matrix by 1) subtracting the mean off of each column and 2) dividing each column by its standard deviation. Do this via broadcasting, and store the result in a matrix called normalized. To verify that you successfully did it, compute the mean and standard deviation of the columns of the normalized and print it. "
   ]
  },
  {
   "cell_type": "code",
   "execution_count": 6,
   "id": "54dc35ab-2b36-4557-8d47-762ed966f903",
   "metadata": {},
   "outputs": [
    {
     "name": "stdout",
     "output_type": "stream",
     "text": [
      "\n",
      "Mean of normalized columns:\n",
      " [-2.38697950e-17 -2.22599716e-16 -1.78190795e-16  1.25455202e-16\n",
      "  2.95874436e-16]\n",
      "\n",
      "Standard deviation of normalized columns:\n",
      " [1. 1. 1. 1. 1.]\n"
     ]
    }
   ],
   "source": [
    "normalized = (data - mean_vector) / std_vector\n",
    "normalized_mean = np.mean(normalized, axis=0)\n",
    "normalized_std = np.std(normalized, axis=0)\n",
    "print(\"\\nMean of normalized columns:\\n\", normalized_mean)\n",
    "print(\"\\nStandard deviation of normalized columns:\\n\", normalized_std)"
   ]
  },
  {
   "cell_type": "markdown",
   "id": "0aae88b5-eafa-4294-863c-ae6f322e81d2",
   "metadata": {},
   "source": [
    "#"
   ]
  },
  {
   "cell_type": "markdown",
   "id": "55e41c7f-565e-420b-a794-3d11b53a1980",
   "metadata": {},
   "source": [
    "#"
   ]
  },
  {
   "cell_type": "markdown",
   "id": "88bffaea-f593-4886-a020-3dcec4d9baa0",
   "metadata": {},
   "source": [
    "### Q3: a) A Vandermode matrix is a matrix generated from a vector in which each column of the matrix is an integer power starting from zero. Use what you learned about broadcasting in the previous problem to write a function that will produce a Vandermonde matrix for a vector [ 1, 2, ... , N]^T for any N. Do it without using any loop. "
   ]
  },
  {
   "cell_type": "code",
   "execution_count": 7,
   "id": "51cb76ba-61d8-4ab0-b7e3-b013e4fac882",
   "metadata": {},
   "outputs": [
    {
     "name": "stdout",
     "output_type": "stream",
     "text": [
      "[[           1            1            1            1            1\n",
      "             1            1            1            1            1\n",
      "             1            1]\n",
      " [           1            2            4            8           16\n",
      "            32           64          128          256          512\n",
      "          1024         2048]\n",
      " [           1            3            9           27           81\n",
      "           243          729         2187         6561        19683\n",
      "         59049       177147]\n",
      " [           1            4           16           64          256\n",
      "          1024         4096        16384        65536       262144\n",
      "       1048576      4194304]\n",
      " [           1            5           25          125          625\n",
      "          3125        15625        78125       390625      1953125\n",
      "       9765625     48828125]\n",
      " [           1            6           36          216         1296\n",
      "          7776        46656       279936      1679616     10077696\n",
      "      60466176    362797056]\n",
      " [           1            7           49          343         2401\n",
      "         16807       117649       823543      5764801     40353607\n",
      "     282475249   1977326743]\n",
      " [           1            8           64          512         4096\n",
      "         32768       262144      2097152     16777216    134217728\n",
      "    1073741824   8589934592]\n",
      " [           1            9           81          729         6561\n",
      "         59049       531441      4782969     43046721    387420489\n",
      "    3486784401  31381059609]\n",
      " [           1           10          100         1000        10000\n",
      "        100000      1000000     10000000    100000000   1000000000\n",
      "   10000000000 100000000000]\n",
      " [           1           11          121         1331        14641\n",
      "        161051      1771561     19487171    214358881   2357947691\n",
      "   25937424601 285311670611]\n",
      " [           1           12          144         1728        20736\n",
      "        248832      2985984     35831808    429981696   5159780352\n",
      "   61917364224 743008370688]]\n"
     ]
    }
   ],
   "source": [
    "import numpy as np\n",
    "\n",
    "def vandermonde(N):\n",
    "    vec = np.arange(N) + 1 \n",
    "    vec1 = np.arange(N)\n",
    "    vec2= vec[:, np.newaxis]\n",
    "    vander_matrix = vec2 ** vec1.astype(dtype=\"int64\")\n",
    "    return vander_matrix\n",
    "\n",
    "vander = vandermonde(12)\n",
    "print(vander)\n"
   ]
  },
  {
   "cell_type": "markdown",
   "id": "f86e95c4-36e0-4f96-93c7-1d855e344adc",
   "metadata": {},
   "source": [
    "###"
   ]
  },
  {
   "cell_type": "markdown",
   "id": "e54d30a2-2d37-494a-a589-274dab67bd90",
   "metadata": {},
   "source": [
    "### b) Now, let's make a pretend linear system problem with this matrix. Create a vector of all ones, of length 12 and call it x. Perform a matrix-vector multiplication of vander with the vector you just created and store that in a new vector and call it b. Print the vector b."
   ]
  },
  {
   "cell_type": "code",
   "execution_count": 8,
   "id": "21e56cb8-0565-444f-bc45-dfc4973f1255",
   "metadata": {},
   "outputs": [
    {
     "name": "stdout",
     "output_type": "stream",
     "text": [
      "[1.20000000e+01 4.09500000e+03 2.65720000e+05 5.59240500e+06\n",
      " 6.10351560e+07 4.35356467e+08 2.30688120e+09 9.81706810e+09\n",
      " 3.53036921e+10 1.11111111e+11 3.13842838e+11 8.10554586e+11]\n"
     ]
    }
   ],
   "source": [
    "x = np.ones(12)\n",
    "b= np.dot(vander, x)\n",
    "print(b)"
   ]
  },
  {
   "cell_type": "markdown",
   "id": "a7d94cf9-fbaf-4f8a-aead-84ffd4680d34",
   "metadata": {},
   "source": [
    "###"
   ]
  },
  {
   "cell_type": "markdown",
   "id": "681b1a8c-0331-4ea8-adc6-41038d478e33",
   "metadata": {},
   "source": [
    "### c) First solve the linear system the naive way, pretending like you don't know x. Import numpy.linalg, invert V and multiply it by b. Print out your result. What should you get for your answer? If the answer is different than what you expected, write a sentence about that difference."
   ]
  },
  {
   "cell_type": "code",
   "execution_count": 9,
   "id": "6b9731e0-c284-42af-8db1-fafe2527ef36",
   "metadata": {},
   "outputs": [
    {
     "name": "stdout",
     "output_type": "stream",
     "text": [
      "[ 105.49609375 -129.88085938   30.39453125   -2.21679688    1.2265625\n",
      "    0.97705078    1.00299072    0.99966431    1.00002718    0.9999986\n",
      "    1.00000004    1.        ]\n"
     ]
    }
   ],
   "source": [
    "V = np.linalg.inv(vander)\n",
    "x1= np.dot(V, b)\n",
    "print(x1)"
   ]
  },
  {
   "cell_type": "markdown",
   "id": "e862aa02-641d-4c72-acf8-f26076b8071f",
   "metadata": {},
   "source": [
    "###"
   ]
  },
  {
   "cell_type": "markdown",
   "id": "6187427c-0b58-48e5-a581-c14f909a750e",
   "metadata": {},
   "source": [
    "### d) Now, solve the same linear system using solve. Print out the result. Does it seem more or less in line with what you'd expect?"
   ]
  },
  {
   "cell_type": "code",
   "execution_count": 10,
   "id": "c936ebcc-25d6-40bf-958e-75000424a5d1",
   "metadata": {},
   "outputs": [
    {
     "name": "stdout",
     "output_type": "stream",
     "text": [
      "Solution to the linear system using np.linalg.solve:\n",
      " [1.10619363 0.6855576  1.38336806 0.74140687 1.10853749 0.96996722\n",
      " 1.00562989 0.99928089 1.00006163 0.99999661 1.00000011 1.        ]\n"
     ]
    }
   ],
   "source": [
    "x_solve_method = np.linalg.solve(vander, b)\n",
    "print(\"Solution to the linear system using np.linalg.solve:\\n\", x_solve_method)"
   ]
  },
  {
   "cell_type": "code",
   "execution_count": 1,
   "id": "4e32fd14",
   "metadata": {},
   "outputs": [
    {
     "name": "stdout",
     "output_type": "stream",
     "text": [
      "https://github.com/imshivanshutiwari/Shivanshu_Tiwari_24-14-08/blob/main/Assn2_Shivanshu_Tiwari_24-14-08.ipynb\n"
     ]
    }
   ],
   "source": [
    "#Github Link\n",
    "print(\"https://github.com/imshivanshutiwari/Shivanshu_Tiwari_24-14-08/blob/main/Assn2_Shivanshu_Tiwari_24-14-08.ipynb\")"
   ]
  }
 ],
 "metadata": {
  "kernelspec": {
   "display_name": "Python 3 (ipykernel)",
   "language": "python",
   "name": "python3"
  },
  "language_info": {
   "codemirror_mode": {
    "name": "ipython",
    "version": 3
   },
   "file_extension": ".py",
   "mimetype": "text/x-python",
   "name": "python",
   "nbconvert_exporter": "python",
   "pygments_lexer": "ipython3",
   "version": "3.12.2"
  }
 },
 "nbformat": 4,
 "nbformat_minor": 5
}
