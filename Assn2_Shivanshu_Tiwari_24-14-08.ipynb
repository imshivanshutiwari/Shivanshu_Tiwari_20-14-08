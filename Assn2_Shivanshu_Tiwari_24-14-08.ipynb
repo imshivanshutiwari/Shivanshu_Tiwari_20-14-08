{
 "cells": [
  {
   "cell_type": "markdown",
   "id": "15ede207-aad4-472e-b3d7-9fb250b1a591",
   "metadata": {},
   "source": [
    "## Assignment 2 (Data Science Tools and Techniqes, AM609)\n",
    "## Reg. No: 24-14-16\n",
    "## Name: Chandan Maity\n",
    "## Course: M.Tech Modelling & Simulation"
   ]
  },
  {
   "cell_type": "markdown",
   "id": "f8a4ed07-48e2-4532-b16b-97f33596214a",
   "metadata": {},
   "source": [
    "###"
   ]
  },
  {
   "cell_type": "markdown",
   "id": "c408e4a8-ebc9-4298-aa59-2c3b9e554947",
   "metadata": {},
   "source": [
    "### Q1: a) Create a variable named var1 that stores an array of numbers from 0 to 30, inclusive. Print var1 and its shape. "
   ]
  },
  {
   "cell_type": "markdown",
   "id": "86917231-8775-4240-8ef9-32de4c0ca743",
   "metadata": {},
   "source": [
    "### b) Change var1 to a validly-shaped two dimensional matrix and store it in a new variable called var2. Print var2 and its shape."
   ]
  },
  {
   "cell_type": "markdown",
   "id": "4bb0994b-b9d7-476d-9d74-0859e8423292",
   "metadata": {},
   "source": [
    "### c) Create a third variable, var3 that reshapes var2 into a valid three dimensional shape. Print var3 and its shape."
   ]
  },
  {
   "cell_type": "markdown",
   "id": "bf4b2c22-dd30-4274-9306-1a99ab9cdb32",
   "metadata": {},
   "source": [
    "### d) Use two dimensional array indexing to set the first value in the second row of var2 to -1. Now look at var1 and var3. Did they change? Explain what's going on. (Hint: Does reshape return a view or a copy?)"
   ]
  },
  {
   "cell_type": "markdown",
   "id": "08251232-524b-4a18-a2ca-7f060d012050",
   "metadata": {},
   "source": [
    "### e) Another thing that comes up a lot with array shapes is thinking about how to aggregate over specific dimensions. Figure out how the Numpy sum function works (and the axis argument in particular) and do the following:\n",
    "### (i) Sum var3 over its second dimension and print the result.                                                                (ii) Sum var3 over its third dimension and print the result.                                                                (iii) Sum var3 over both its first and third dimension and print the result."
   ]
  },
  {
   "cell_type": "markdown",
   "id": "4d640a78-f038-4932-b067-fdcf73f727d2",
   "metadata": {},
   "source": [
    "### f) Write code to the following: (i) Slice out the second row of var2 and print it.                                                                          (ii) Slice out the last column of var2 using -1 notation and print it.                                                      (iii) Slice out the top right 2 x 2 submatrix of var2 and print it."
   ]
  },
  {
   "cell_type": "code",
   "execution_count": 37,
   "id": "b3428bd9-8f4b-4d60-b2de-46dc79757d97",
   "metadata": {},
   "outputs": [
    {
     "name": "stdout",
     "output_type": "stream",
     "text": [
      "The required array is: \n",
      "[ 0  1  2  3  4  5  6  7  8  9 10 11 12 13 14 15 16 17 18 19 20 21 22 23\n",
      " 24 25 26 27 28 29 30]\n",
      "Shape of the array is:  (31,)\n",
      "\n",
      "The new two dimensional matrix is:\n",
      "[[ 1  2  3  4  5  6]\n",
      " [ 7  8  9 10 11 12]\n",
      " [13 14 15 16 17 18]\n",
      " [19 20 21 22 23 24]\n",
      " [25 26 27 28 29 30]]\n",
      "Shape of the matrix is:  (5, 6)\n",
      "\n",
      "The three dimensional shape of variable 3 is: \n",
      "[[[ 1  2  3  4  5]\n",
      "  [ 6  7  8  9 10]\n",
      "  [11 12 13 14 15]]\n",
      "\n",
      " [[16 17 18 19 20]\n",
      "  [21 22 23 24 25]\n",
      "  [26 27 28 29 30]]]\n",
      "Shape of the variable 3 is:  (2, 3, 5)\n",
      "\n",
      "Updated var2 is:\n",
      "[[ 1  2  3  4  5  6]\n",
      " [-1  8  9 10 11 12]\n",
      " [13 14 15 16 17 18]\n",
      " [19 20 21 22 23 24]\n",
      " [25 26 27 28 29 30]]\n",
      "Array var1 after modifying var2:\n",
      "[ 0  1  2  3  4  5  6  7  8  9 10 11 12 13 14 15 16 17 18 19 20 21 22 23\n",
      " 24 25 26 27 28 29 30]\n",
      "Array var3 after modifying var2:\n",
      "[[[ 1  2  3  4  5]\n",
      "  [ 6 -1  8  9 10]\n",
      "  [11 12 13 14 15]]\n",
      "\n",
      " [[16 17 18 19 20]\n",
      "  [21 22 23 24 25]\n",
      "  [26 27 28 29 30]]]\n",
      "\n",
      "Sum of var3 over its second dimension:\n",
      " [[18 13 24 27 30]\n",
      " [63 66 69 72 75]]\n",
      "Sum of var3 over its third dimension:\n",
      " [[ 15  32  65]\n",
      " [ 90 115 140]]\n",
      "Sum of var3 over its first and third dimension:\n",
      " [105 147 205]\n",
      "\n",
      "The second row of var2 is: \n",
      "[[-1  8  9 10 11 12]]\n",
      "The last column of var2 is: \n",
      "[[ 6]\n",
      " [12]\n",
      " [18]\n",
      " [24]\n",
      " [30]]\n",
      "The top right 2x2 submatrix of var2 is: \n",
      "[[ 5  6]\n",
      " [11 12]]\n"
     ]
    }
   ],
   "source": [
    "import numpy as np\n",
    "\n",
    "var1=np.arange(0,31)\n",
    "print(\"The required array is: \")\n",
    "print(var1)\n",
    "print(\"Shape of the array is: \",var1.shape)\n",
    "print(    )\n",
    "\n",
    "\n",
    "var=np.delete(var1,0)\n",
    "var2=var.reshape(5,-1)\n",
    "print(\"The new two dimensional matrix is:\")\n",
    "print(var2)\n",
    "print(\"Shape of the matrix is: \",var2.shape)\n",
    "print(    )\n",
    "\n",
    "\n",
    "var3=var2.reshape(2,3,-1)\n",
    "print(\"The three dimensional shape of variable 3 is: \")\n",
    "print(var3)\n",
    "print(\"Shape of the variable 3 is: \", var3.shape)\n",
    "print(    )\n",
    "\n",
    "\n",
    "var2[1,0]=-1\n",
    "print(\"Updated var2 is:\")\n",
    "print(var2)\n",
    "print(\"Array var1 after modifying var2:\")\n",
    "print(var1)\n",
    "print(\"Array var3 after modifying var2:\")\n",
    "print(var3)\n",
    "print(     )\n",
    "\"\"\"Here we saw that the variable1(var1) is still unchanged while the first element of variable3(var3) is changed to -1. \"\"\"\n",
    "\n",
    "\n",
    "sum_var3_dim2 = var3.sum(axis=1)\n",
    "print(\"Sum of var3 over its second dimension:\\n\", sum_var3_dim2)\n",
    "sum_var3_dim3 = var3.sum(axis=2)\n",
    "print(\"Sum of var3 over its third dimension:\\n\", sum_var3_dim3)\n",
    "sum_var3_dim4=var3.sum(axis=(0,2))\n",
    "print(\"Sum of var3 over its first and third dimension:\\n\", sum_var3_dim4)\n",
    "print(     )\n",
    "\n",
    "\n",
    "row2_of_var2=var2[1:2,]\n",
    "print(\"The second row of var2 is: \")\n",
    "print(row2_of_var2)\n",
    "col_last_var2=var2[:,-1:]\n",
    "print(\"The last column of var2 is: \")\n",
    "print(col_last_var2)\n",
    "mat=var2[0:2,4:]\n",
    "print(\"The top right 2x2 submatrix of var2 is: \")\n",
    "print(mat)"
   ]
  },
  {
   "cell_type": "markdown",
   "id": "15fe8d1e-3940-4341-96e5-0a00a89125a8",
   "metadata": {},
   "source": [
    "#"
   ]
  },
  {
   "cell_type": "markdown",
   "id": "efcb567d-d568-4b6f-ac2e-5491f73deba7",
   "metadata": {},
   "source": [
    "#"
   ]
  },
  {
   "cell_type": "markdown",
   "id": "537f518c-61f9-4024-85d5-28687301c728",
   "metadata": {},
   "source": [
    "### Q2: a) The most basic kind of broadcast is with a scalar, in which you can perform a binary operation (e.g., add, multiply,...) on an array and a scalar, the effect is to perform the operation with the scalar for every element of the array. To try this out, create a vector 1,2,3,...,10 by adding 1 to the result of the arange function."
   ]
  },
  {
   "cell_type": "code",
   "execution_count": 10,
   "id": "890be485-9414-4aa6-a8e6-373efd670736",
   "metadata": {},
   "outputs": [
    {
     "name": "stdout",
     "output_type": "stream",
     "text": [
      "[ 1  2  3  4  5  6  7  8  9 10]\n"
     ]
    }
   ],
   "source": [
    "import numpy as np\n",
    "vector=np.arange(10)\n",
    "vector+=1\n",
    "print(vector)"
   ]
  },
  {
   "cell_type": "markdown",
   "id": "1d9fcbc8-1a9c-4aa4-a5e3-b2416391621f",
   "metadata": {},
   "source": [
    "###"
   ]
  },
  {
   "cell_type": "markdown",
   "id": "7d1deca7-91ac-4e97-997d-d9f257e0b691",
   "metadata": {},
   "source": [
    "### b) Now, create a 10 x 10 matrix A in which A_(ij)=i+j. You'll be able to do this using the vector you just created, and adding it to a reshaped veesion of itself."
   ]
  },
  {
   "cell_type": "code",
   "execution_count": 27,
   "id": "73bce096-23da-4442-91cc-23e2f788edf9",
   "metadata": {},
   "outputs": [
    {
     "name": "stdout",
     "output_type": "stream",
     "text": [
      "Matrix A:\n",
      "[[ 2  3  4  5  6  7  8  9 10 11]\n",
      " [ 3  4  5  6  7  8  9 10 11 12]\n",
      " [ 4  5  6  7  8  9 10 11 12 13]\n",
      " [ 5  6  7  8  9 10 11 12 13 14]\n",
      " [ 6  7  8  9 10 11 12 13 14 15]\n",
      " [ 7  8  9 10 11 12 13 14 15 16]\n",
      " [ 8  9 10 11 12 13 14 15 16 17]\n",
      " [ 9 10 11 12 13 14 15 16 17 18]\n",
      " [10 11 12 13 14 15 16 17 18 19]\n",
      " [11 12 13 14 15 16 17 18 19 20]]\n"
     ]
    }
   ],
   "source": [
    "A = vector.reshape(10, 1) + vector\n",
    "print(\"Matrix A:\")\n",
    "print(A)"
   ]
  },
  {
   "cell_type": "markdown",
   "id": "db9b58c0-6d48-440d-84ee-ee016afac383",
   "metadata": {},
   "source": [
    "###"
   ]
  },
  {
   "cell_type": "markdown",
   "id": "d59031b5-8c6c-45ac-9778-16667789506d",
   "metadata": {},
   "source": [
    "### c) A very common use of broadcasting is to standardize data, i.e., to make it have zero mean and unit variance. First, create a fake \"data set\" with 50 examples, each with five dimensions."
   ]
  },
  {
   "cell_type": "code",
   "execution_count": 93,
   "id": "0c1eee18-06bb-4b52-8a60-df213de8cdbb",
   "metadata": {},
   "outputs": [
    {
     "name": "stdout",
     "output_type": "stream",
     "text": [
      "\n",
      "Data Matrix:\n",
      "[[ 0.37345545  0.42735162  0.59664014  1.02792155  3.35560869]\n",
      " [ 0.31549176  0.72285504 24.5421748   3.67114331  0.45567388]\n",
      " [ 1.90287704  1.17193531  1.00245654  1.9047736   0.48183805]\n",
      " [ 1.67460926  1.59229386  0.65357928  8.07777693  0.57973248]\n",
      " [ 0.44447277  0.40383535  0.98490949  9.33395673  0.25054442]\n",
      " [ 0.64396755  1.02249669  2.74003256  5.66175294  1.9406102 ]\n",
      " [ 5.40689302  0.84375236 12.71398607  0.33749698  0.6996163 ]\n",
      " [ 9.25769712  2.71382823  2.39570534  1.65165788  0.96990477]\n",
      " [ 1.31576072  0.82329253  0.32231087  0.13267433  0.6461229 ]\n",
      " [ 0.38755208  0.67141177  3.96774712  2.50208841  1.45757005]\n",
      " [ 5.41509721  0.82396387  0.96239386  1.63923164  0.22089032]\n",
      " [ 4.40556674  2.21382615  1.18650045  0.9288702   0.93660654]\n",
      " [10.93491663  0.9513993  10.07913604  0.94319831  0.6154226 ]\n",
      " [ 0.45545356  2.76633863  1.75399509  0.61382956  4.48915925]\n",
      " [ 0.81486386  1.20089799  2.37812789  0.17708924  0.21203494]\n",
      " [ 2.43554138  0.34262375  0.52411235  0.36005366  0.41245628]\n",
      " [ 0.90224537  1.3943836   0.2180593   0.84150341  0.52773179]\n",
      " [ 1.70756742  0.56084662  0.51600245  0.22694706  1.91189834]\n",
      " [ 1.56043376  1.0602104   2.27925073  1.29923292  0.61126497]\n",
      " [ 0.97873407  0.62174442  1.86248783  0.15745652  1.53493065]\n",
      " [ 2.57796892  0.36220761  0.56314422  0.58092522  4.83741314]\n",
      " [ 1.52179538  3.58433391  8.41522368  0.26961658  1.89717876]\n",
      " [ 2.26831511  3.01221144  1.22273134  1.0055742   0.58033244]\n",
      " [ 2.47452291  0.32103183  0.72605365  0.4419209   0.56294326]\n",
      " [ 0.85700385  1.62654989  1.66076868  0.75752273  1.94963552]\n",
      " [ 1.99462255  2.76049559  1.03075108  0.26322865  0.64286677]\n",
      " [ 0.61030008  1.00252715  0.50416559  0.47776923  1.95961849]\n",
      " [ 0.95601063  1.30647096  1.80704985  0.86426427  5.54142735]\n",
      " [ 0.76553935  0.14435044  1.02196632  1.33010887  2.00096417]\n",
      " [ 4.95351847  3.62130598  2.77331421  0.43353773  3.13326764]\n",
      " [ 1.33521134  1.66879761  0.69167789  0.69413679  0.4048821 ]\n",
      " [ 4.54509914  0.63702275  1.56311719  4.96378989  0.23690559]\n",
      " [ 2.51564751  0.24067103  0.18092149  1.87755086  1.10676054]\n",
      " [ 2.18959984  1.64846134  3.51333962  7.4972764   0.58337804]\n",
      " [ 0.80011839  1.01896557  1.05258694  0.38703161  2.45504048]\n",
      " [ 0.48583475  0.71676958  0.98642814  4.01152099  0.12472751]\n",
      " [ 0.16514103  1.23318502  0.82202813  1.97314257  0.18927353]\n",
      " [16.69597551  2.81557052  4.21455341  0.40105752  0.82298065]\n",
      " [ 0.2447528   0.08030438  0.83515604  0.39527474  0.99323252]\n",
      " [ 0.1676134   2.24699819  0.36669589  0.23386521  1.50837867]\n",
      " [ 1.67318638  2.54051101  1.56490761  0.2927678   4.36641376]\n",
      " [ 0.54632194  0.15394346  1.17091687  0.80364713  1.96033083]\n",
      " [ 0.63314124  0.47338804  0.90293561  0.29385714  0.80505483]\n",
      " [ 1.13978397  1.54283984  0.4763843   0.71660928  0.63610886]\n",
      " [10.38899628  0.66059252  0.47033624  0.54002073  0.58503965]\n",
      " [ 2.81000541  0.79954199  3.29149112  0.44187698  3.14429233]\n",
      " [ 0.06286608  4.12029273  0.4887042   0.55279361  1.15474546]\n",
      " [ 0.35249799  0.81602973  0.62730038  0.98229097  6.94381929]\n",
      " [ 1.04082056  0.1638058   2.02197379  1.10775302  2.4031303 ]\n",
      " [ 2.11621241 11.98265099  0.24003418  0.91299183  1.37571588]]\n"
     ]
    }
   ],
   "source": [
    "import numpy.random as npr\n",
    "data = np.exp(npr.randn ( 50 ,   5 ) )\n",
    "print(\"\\nData Matrix:\")\n",
    "print(data)"
   ]
  },
  {
   "cell_type": "markdown",
   "id": "e0276d5c-cc38-45fa-a8a4-7b8749d9eecf",
   "metadata": {},
   "source": [
    "#### You don't worry too much about what this code is doing at this stage of the course, but for completeness: it imports the Numpy random number generation library, then generates a 50 x 5 matrix of standard normal random variates and exponentiates them. The effect of this is to have a pretend data set of 50 independent and identically-distributed vectors from a log-normal distributions."
   ]
  },
  {
   "cell_type": "markdown",
   "id": "216d0b55-b816-43a7-8f91-7b43ec66a1a3",
   "metadata": {},
   "source": [
    "###"
   ]
  },
  {
   "cell_type": "markdown",
   "id": "6deda993-a86a-4d11-976f-7d25367b57ec",
   "metadata": {},
   "source": [
    "### e) Now, compute the mean and standard deviation of each column. This should result in two vectors of length 5. You'll need to think a little bit about how to use the axis argument to mean and std. Store these vectors into variables and print both of them."
   ]
  },
  {
   "cell_type": "code",
   "execution_count": 95,
   "id": "0552862d-d074-48c1-b5e2-69d6d37629c0",
   "metadata": {},
   "outputs": [
    {
     "name": "stdout",
     "output_type": "stream",
     "text": [
      "Mean vector: [2.4044324  1.51262229 2.33772532 1.53984757 1.54430952]\n",
      "Standard deviation vector: [3.18823558 1.79885693 3.97756557 2.07994244 1.49917009]\n"
     ]
    }
   ],
   "source": [
    "mean_vector = np.mean(data, axis=0)\n",
    "std_vector = np.std(data, axis=0)\n",
    "print(\"Mean vector:\", mean_vector)\n",
    "print(\"Standard deviation vector:\", std_vector)\n"
   ]
  },
  {
   "cell_type": "markdown",
   "id": "e57c656f-891a-43a1-899b-69db4d593b00",
   "metadata": {},
   "source": [
    "###"
   ]
  },
  {
   "cell_type": "markdown",
   "id": "ce50161e-15fa-4335-9aa9-e6925e7d6814",
   "metadata": {},
   "source": [
    "### f) Now, Standardize the data matrix by 1) subtracting the mean off of each column and 2) dividing each column by its standard deviation. Do this via broadcasting, and store the result in a matrix called normalized. To verify that you successfully did it, compute the mean and standard deviation of the columns of the normalized and print it. "
   ]
  },
  {
   "cell_type": "code",
   "execution_count": 101,
   "id": "54dc35ab-2b36-4557-8d47-762ed966f903",
   "metadata": {},
   "outputs": [
    {
     "name": "stdout",
     "output_type": "stream",
     "text": [
      "\n",
      "Mean of normalized columns:\n",
      " [-1.49602553e-16  2.30926389e-16 -4.44089210e-18  1.29896094e-16\n",
      " -8.88178420e-18]\n",
      "\n",
      "Standard deviation of normalized columns:\n",
      " [1. 1. 1. 1. 1.]\n"
     ]
    }
   ],
   "source": [
    "normalized = (data - mean_vector) / std_vector\n",
    "normalized_mean = np.mean(normalized, axis=0)\n",
    "normalized_std = np.std(normalized, axis=0)\n",
    "print(\"\\nMean of normalized columns:\\n\", normalized_mean)\n",
    "print(\"\\nStandard deviation of normalized columns:\\n\", normalized_std)"
   ]
  },
  {
   "cell_type": "markdown",
   "id": "0aae88b5-eafa-4294-863c-ae6f322e81d2",
   "metadata": {},
   "source": [
    "#"
   ]
  },
  {
   "cell_type": "markdown",
   "id": "55e41c7f-565e-420b-a794-3d11b53a1980",
   "metadata": {},
   "source": [
    "#"
   ]
  },
  {
   "cell_type": "markdown",
   "id": "88bffaea-f593-4886-a020-3dcec4d9baa0",
   "metadata": {},
   "source": [
    "### Q3: a) A Vandermode matrix is a matrix generated from a vector in which each column of the matrix is an integer power starting from zero. Use what you learned about broadcasting in the previous problem to write a function that will produce a Vandermonde matrix for a vector [ 1, 2, ... , N]^T for any N. Do it without using any loop. "
   ]
  },
  {
   "cell_type": "code",
   "execution_count": 76,
   "id": "51cb76ba-61d8-4ab0-b7e3-b013e4fac882",
   "metadata": {},
   "outputs": [
    {
     "name": "stdout",
     "output_type": "stream",
     "text": [
      "[[           1            1            1            1            1\n",
      "             1            1            1            1            1\n",
      "             1            1]\n",
      " [           1            2            4            8           16\n",
      "            32           64          128          256          512\n",
      "          1024         2048]\n",
      " [           1            3            9           27           81\n",
      "           243          729         2187         6561        19683\n",
      "         59049       177147]\n",
      " [           1            4           16           64          256\n",
      "          1024         4096        16384        65536       262144\n",
      "       1048576      4194304]\n",
      " [           1            5           25          125          625\n",
      "          3125        15625        78125       390625      1953125\n",
      "       9765625     48828125]\n",
      " [           1            6           36          216         1296\n",
      "          7776        46656       279936      1679616     10077696\n",
      "      60466176    362797056]\n",
      " [           1            7           49          343         2401\n",
      "         16807       117649       823543      5764801     40353607\n",
      "     282475249   1977326743]\n",
      " [           1            8           64          512         4096\n",
      "         32768       262144      2097152     16777216    134217728\n",
      "    1073741824   8589934592]\n",
      " [           1            9           81          729         6561\n",
      "         59049       531441      4782969     43046721    387420489\n",
      "    3486784401  31381059609]\n",
      " [           1           10          100         1000        10000\n",
      "        100000      1000000     10000000    100000000   1000000000\n",
      "   10000000000 100000000000]\n",
      " [           1           11          121         1331        14641\n",
      "        161051      1771561     19487171    214358881   2357947691\n",
      "   25937424601 285311670611]\n",
      " [           1           12          144         1728        20736\n",
      "        248832      2985984     35831808    429981696   5159780352\n",
      "   61917364224 743008370688]]\n"
     ]
    }
   ],
   "source": [
    "import numpy as np\n",
    "\n",
    "def vandermonde(N):\n",
    "    vec = np.arange(N) + 1 \n",
    "    vec1 = np.arange(N)\n",
    "    vec2= vec[:, np.newaxis]\n",
    "    vander_matrix = vec2 ** vec1.astype(dtype=\"int64\")\n",
    "    return vander_matrix\n",
    "\n",
    "vander = vandermonde(12)\n",
    "print(vander)\n"
   ]
  },
  {
   "cell_type": "markdown",
   "id": "f86e95c4-36e0-4f96-93c7-1d855e344adc",
   "metadata": {},
   "source": [
    "###"
   ]
  },
  {
   "cell_type": "markdown",
   "id": "e54d30a2-2d37-494a-a589-274dab67bd90",
   "metadata": {},
   "source": [
    "### b) Now, let's make a pretend linear system problem with this matrix. Create a vector of all ones, of length 12 and call it x. Perform a matrix-vector multiplication of vander with the vector you just created and store that in a new vector and call it b. Print the vector b."
   ]
  },
  {
   "cell_type": "code",
   "execution_count": 78,
   "id": "21e56cb8-0565-444f-bc45-dfc4973f1255",
   "metadata": {},
   "outputs": [
    {
     "name": "stdout",
     "output_type": "stream",
     "text": [
      "[1.20000000e+01 4.09500000e+03 2.65720000e+05 5.59240500e+06\n",
      " 6.10351560e+07 4.35356467e+08 2.30688120e+09 9.81706810e+09\n",
      " 3.53036921e+10 1.11111111e+11 3.13842838e+11 8.10554586e+11]\n"
     ]
    }
   ],
   "source": [
    "x = np.ones(12)\n",
    "b= np.dot(vander, x)\n",
    "print(b)"
   ]
  },
  {
   "cell_type": "markdown",
   "id": "a7d94cf9-fbaf-4f8a-aead-84ffd4680d34",
   "metadata": {},
   "source": [
    "###"
   ]
  },
  {
   "cell_type": "markdown",
   "id": "681b1a8c-0331-4ea8-adc6-41038d478e33",
   "metadata": {},
   "source": [
    "### c) First solve the linear system the naive way, pretending like you don't know x. Import numpy.linalg, invert V and multiply it by b. Print out your result. What should you get for your answer? If the answer is different than what you expected, write a sentence about that difference."
   ]
  },
  {
   "cell_type": "code",
   "execution_count": 80,
   "id": "6b9731e0-c284-42af-8db1-fafe2527ef36",
   "metadata": {},
   "outputs": [
    {
     "name": "stdout",
     "output_type": "stream",
     "text": [
      "[ 105.49609375 -129.88085938   30.39453125   -2.21679688    1.2265625\n",
      "    0.97705078    1.00299072    0.99966431    1.00002718    0.9999986\n",
      "    1.00000004    1.        ]\n"
     ]
    }
   ],
   "source": [
    "V = np.linalg.inv(vander)\n",
    "x1= np.dot(V, b)\n",
    "print(x1)"
   ]
  },
  {
   "cell_type": "code",
   "execution_count": null,
   "id": "a9af743a-9551-4529-8851-070907a896de",
   "metadata": {},
   "outputs": [],
   "source": []
  },
  {
   "cell_type": "markdown",
   "id": "e862aa02-641d-4c72-acf8-f26076b8071f",
   "metadata": {},
   "source": [
    "###"
   ]
  },
  {
   "cell_type": "markdown",
   "id": "6187427c-0b58-48e5-a581-c14f909a750e",
   "metadata": {},
   "source": [
    "### d) Now, solve the same linear system using solve. Print out the result. Does it seem more or less in line with what you'd expect?"
   ]
  },
  {
   "cell_type": "code",
   "execution_count": 74,
   "id": "c936ebcc-25d6-40bf-958e-75000424a5d1",
   "metadata": {},
   "outputs": [
    {
     "name": "stdout",
     "output_type": "stream",
     "text": [
      "Solution to the linear system using np.linalg.solve:\n",
      " [1.00000064 0.99999871 1.00000078 0.99999993 0.99999989 1.00000005\n",
      " 0.99999999 1.         1.         1.        ]\n"
     ]
    }
   ],
   "source": [
    "x_solve_method = np.linalg.solve(vander, b)\n",
    "print(\"Solution to the linear system using np.linalg.solve:\\n\", x_solve_method)"
   ]
  }
 ],
 "metadata": {
  "kernelspec": {
   "display_name": "Python 3 (ipykernel)",
   "language": "python",
   "name": "python3"
  },
  "language_info": {
   "codemirror_mode": {
    "name": "ipython",
    "version": 3
   },
   "file_extension": ".py",
   "mimetype": "text/x-python",
   "name": "python",
   "nbconvert_exporter": "python",
   "pygments_lexer": "ipython3",
   "version": "3.12.4"
  }
 },
 "nbformat": 4,
 "nbformat_minor": 5
}
